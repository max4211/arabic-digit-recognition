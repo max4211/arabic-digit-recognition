{
 "metadata": {
  "language_info": {
   "codemirror_mode": {
    "name": "ipython",
    "version": 3
   },
   "file_extension": ".py",
   "mimetype": "text/x-python",
   "name": "python",
   "nbconvert_exporter": "python",
   "pygments_lexer": "ipython3",
   "version": "3.8.2-final"
  },
  "orig_nbformat": 2,
  "kernelspec": {
   "name": "python3",
   "display_name": "Python 3.8.2 64-bit",
   "metadata": {
    "interpreter": {
     "hash": "2db524e06e9f5f4ffedc911c917cb75e12dbc923643829bf417064a77eb14d37"
    }
   }
  }
 },
 "nbformat": 4,
 "nbformat_minor": 2,
 "cells": [
  {
   "cell_type": "code",
   "execution_count": 1,
   "metadata": {},
   "outputs": [],
   "source": [
    "from sklearn.cluster import KMeans\n",
    "from scipy.stats import multivariate_normal\n",
    "import matplotlib.pyplot as plt\n",
    "from matplotlib import colors as mcolors\n",
    "from datetime import datetime as dt\n",
    "import pandas as pd\n",
    "import numpy as np\n",
    "import random"
   ]
  },
  {
   "cell_type": "code",
   "execution_count": 2,
   "metadata": {},
   "outputs": [],
   "source": [
    "def cc(arg):\n",
    "    return mcolors.to_rgba(arg, alpha=0.6)\n",
    "\n",
    "def all_colors():\n",
    "    return [\"tab:blue\", \"tab:orange\", \"tab:green\", \"tab:red\", \"tab:purple\", \"tab:brown\", \"tab:pink\", \"tab:gray\", \"tab:olive\", \"tab:cyan\",\n",
    "            \"b\", \"g\", \"r\", \"c\", \"m\", \"y\", \"k\",\n",
    "            \"limegreen\", \"cornflowerblue\", \"mediumblue\", \"darkorange\", \"maroon\", \"deepskyblue\", \"darkmagenta\"]\n",
    "\n",
    "def random_color():\n",
    "    pallette = all_colors()\n",
    "    return cc(random.choice(pallette))\n",
    "\n",
    "def get_color(index):\n",
    "    pallette = all_colors()\n",
    "    return cc(pallette[index])\n",
    "\n",
    "def all_lines():\n",
    "    return [\"-\", \"--\", \"-.\", \".\"]\n",
    "\n",
    "def all_markers():\n",
    "    return [\".\", \",\", \"o\", \"v\", \"^\", \"1\", \"8\", \"*\", \"H\", \"d\"]\n",
    "\n",
    "def random_marker():\n",
    "    return random.choice(all_markers())"
   ]
  },
  {
   "cell_type": "code",
   "execution_count": 3,
   "metadata": {},
   "outputs": [],
   "source": [
    "def custom_scatter_2D(matrix, labels, cluster_centers, n_clusters, digit, coeffs=[0, 1]):\n",
    "    \"\"\"Scatter plot of 2 dimensions of kmeans results\"\"\"\n",
    "    fig = plt.figure()\n",
    "    ax = fig.add_subplot()\n",
    "\n",
    "    clustered_matrix = parse_labels(matrix=matrix, labels=labels, n_clusters=n_clusters)\n",
    "    # for cluster in clustered_matrix:\n",
    "    for index in range(len(clustered_matrix)):\n",
    "        cluster = clustered_matrix[index]\n",
    "        xs = cluster[:, coeffs[0]]\n",
    "        ys = cluster[:, coeffs[1]]\n",
    "        ax.scatter(x=xs, y=ys, s=0.5, color=get_color(index=index), marker=random_marker())\n",
    "    \n",
    "    ax.set_xlabel(f\"MFCC {coeffs[0]}\")\n",
    "    ax.set_ylabel(f\"MFCC {coeffs[1]}\")\n",
    "    ax.set_title(f\"K-Means Result for Digit {digit} with {n_clusters} Clusters\")\n",
    "\n",
    "    plt.show()"
   ]
  },
  {
   "cell_type": "code",
   "execution_count": 4,
   "metadata": {},
   "outputs": [],
   "source": [
    "def create_filter_arr(labels, cluster):\n",
    "    \"\"\"Create boolean flagged filter array to apply to filter np array\"\"\"\n",
    "    filter_arr = []\n",
    "    for label in labels:\n",
    "        if label == cluster:\n",
    "            filter_arr.append(True)\n",
    "        else:\n",
    "            filter_arr.append(False)\n",
    "    return filter_arr\n",
    "\n",
    "def parse_labels(matrix, labels, n_clusters):\n",
    "    \"\"\"Filter matrix and labels into clustered matrices for scatter plotting\"\"\"\n",
    "    clustered_matrix = []\n",
    "\n",
    "    for cluster in range(n_clusters):\n",
    "        filter_arr = create_filter_arr(labels=labels, cluster=cluster)\n",
    "        sub_matrix = matrix[filter_arr]\n",
    "        clustered_matrix.append(sub_matrix)\n",
    "\n",
    "    return clustered_matrix\n",
    "\n",
    "def analyze_cluster(matrix, labels, cluster_centers, n_clusters):\n",
    "    \"\"\"Compute covariance and pi value for gmm vars of clusters\"\"\"\n",
    "    covariance_matrix = []\n",
    "    pi_matrix = []\n",
    "\n",
    "    for cluster in range(n_clusters):\n",
    "        filter_arr = create_filter_arr(labels=labels, cluster=cluster)\n",
    "        sub_matrix = matrix[filter_arr]\n",
    "\n",
    "        pi = len(sub_matrix) / len(matrix)\n",
    "        covariance = np.cov(np.transpose(sub_matrix))\n",
    "\n",
    "        pi_matrix.append(pi)\n",
    "        covariance_matrix.append(covariance)\n",
    "        \n",
    "    return (covariance_matrix, pi_matrix)"
   ]
  },
  {
   "cell_type": "code",
   "execution_count": 5,
   "metadata": {},
   "outputs": [],
   "source": [
    "class GaussParams:\n",
    "    \"\"\" Gaussian Mixture Model object to encapsulate params \"\"\"\n",
    "    def __init__(self, u, pi, cov):\n",
    "        self.u = u\n",
    "        self.pi = pi\n",
    "        self.cov = cov\n",
    "\n",
    "    def __str__(self):\n",
    "        return f\"u: {self.u}\\npi: {self.pi}\\ncov: {self.cov}\""
   ]
  },
  {
   "cell_type": "code",
   "execution_count": 6,
   "metadata": {},
   "outputs": [],
   "source": [
    "# Define all relative file paths to actually get files\n",
    "DATA_PATH = \"../../data/02_intermediate/\"\n",
    "TRAIN_PATH = f\"{DATA_PATH}train_digits/train_0\"\n",
    "TEST_PATH = f\"{DATA_PATH}test_digits/test_0\"\n",
    "EXT = \".txt\""
   ]
  },
  {
   "cell_type": "code",
   "execution_count": 7,
   "metadata": {},
   "outputs": [],
   "source": [
    "# Modeling parameters\n",
    "DIGITS = 10\n",
    "USE_COEFFS = 7\n",
    "MODEL_COEFFS = range(USE_COEFFS)\n",
    "PLOT_COEFFS = [0, 1]\n",
    "CLUSTERS = 4"
   ]
  },
  {
   "cell_type": "code",
   "execution_count": 8,
   "metadata": {},
   "outputs": [],
   "source": [
    "# Generate gaussian models and results\n",
    "gauss_results = []\n",
    "for digit in range(DIGITS):\n",
    "    # Read in train file and parse as dataframe\n",
    "    filename = f\"{TRAIN_PATH}{digit}{EXT}\"\n",
    "    df = pd.read_csv(filename, skip_blank_lines=True, delimiter=' ', header=None)\n",
    "    df.dropna(axis=0, inplace=True)\n",
    "\n",
    "    # Filter dataframe down to only model coefficient columns\n",
    "    df_filter = df.iloc[:, MODEL_COEFFS]\n",
    "    matrix = df_filter.values\n",
    "    n_clusters = CLUSTERS\n",
    "\n",
    "    # Apply kmeans on the matrix of values\n",
    "    kmeans = KMeans(n_clusters=n_clusters, random_state=0)\n",
    "    kmeans.fit(matrix)\n",
    "    labels = kmeans.labels_\n",
    "    cluster_centers = kmeans.cluster_centers_\n",
    "\n",
    "    # Record the GMM results (u, pi, and cov)\n",
    "    cluster_covariance, cluster_pi = analyze_cluster(matrix=matrix, labels=labels, cluster_centers=cluster_centers, n_clusters=n_clusters)    \n",
    "    gauss = GaussParams(u=cluster_centers, pi=cluster_pi, cov=cluster_covariance)\n",
    "    gauss_results.append(gauss)\n",
    "\n",
    "    # Visualize the kmeans plot as scatter in 2D\n",
    "    # custom_scatter_2D(matrix=matrix, labels=labels, cluster_centers=cluster_centers, n_clusters=n_clusters, digit=digit, coeffs=PLOT_COEFFS)"
   ]
  },
  {
   "cell_type": "code",
   "execution_count": 9,
   "metadata": {},
   "outputs": [
    {
     "output_type": "stream",
     "name": "stdout",
     "text": [
      "PI VALUES FOR GAUSS RESULTS (cluster result x digit)\n"
     ]
    },
    {
     "output_type": "execute_result",
     "data": {
      "text/plain": [
       "          0         1         2         3\n",
       "0  0.285831  0.220068  0.193900  0.300202\n",
       "1  0.188372  0.289776  0.288451  0.233401\n",
       "2  0.397194  0.138316  0.200959  0.263531\n",
       "3  0.277424  0.263342  0.164393  0.294840\n",
       "4  0.269458  0.210712  0.229145  0.290685\n",
       "5  0.303267  0.221570  0.264128  0.211035\n",
       "6  0.245644  0.249715  0.311885  0.192755\n",
       "7  0.087546  0.286190  0.368039  0.258225\n",
       "8  0.186648  0.327874  0.168503  0.316975\n",
       "9  0.304529  0.154202  0.416733  0.124536"
      ],
      "text/html": "<div>\n<style scoped>\n    .dataframe tbody tr th:only-of-type {\n        vertical-align: middle;\n    }\n\n    .dataframe tbody tr th {\n        vertical-align: top;\n    }\n\n    .dataframe thead th {\n        text-align: right;\n    }\n</style>\n<table border=\"1\" class=\"dataframe\">\n  <thead>\n    <tr style=\"text-align: right;\">\n      <th></th>\n      <th>0</th>\n      <th>1</th>\n      <th>2</th>\n      <th>3</th>\n    </tr>\n  </thead>\n  <tbody>\n    <tr>\n      <th>0</th>\n      <td>0.285831</td>\n      <td>0.220068</td>\n      <td>0.193900</td>\n      <td>0.300202</td>\n    </tr>\n    <tr>\n      <th>1</th>\n      <td>0.188372</td>\n      <td>0.289776</td>\n      <td>0.288451</td>\n      <td>0.233401</td>\n    </tr>\n    <tr>\n      <th>2</th>\n      <td>0.397194</td>\n      <td>0.138316</td>\n      <td>0.200959</td>\n      <td>0.263531</td>\n    </tr>\n    <tr>\n      <th>3</th>\n      <td>0.277424</td>\n      <td>0.263342</td>\n      <td>0.164393</td>\n      <td>0.294840</td>\n    </tr>\n    <tr>\n      <th>4</th>\n      <td>0.269458</td>\n      <td>0.210712</td>\n      <td>0.229145</td>\n      <td>0.290685</td>\n    </tr>\n    <tr>\n      <th>5</th>\n      <td>0.303267</td>\n      <td>0.221570</td>\n      <td>0.264128</td>\n      <td>0.211035</td>\n    </tr>\n    <tr>\n      <th>6</th>\n      <td>0.245644</td>\n      <td>0.249715</td>\n      <td>0.311885</td>\n      <td>0.192755</td>\n    </tr>\n    <tr>\n      <th>7</th>\n      <td>0.087546</td>\n      <td>0.286190</td>\n      <td>0.368039</td>\n      <td>0.258225</td>\n    </tr>\n    <tr>\n      <th>8</th>\n      <td>0.186648</td>\n      <td>0.327874</td>\n      <td>0.168503</td>\n      <td>0.316975</td>\n    </tr>\n    <tr>\n      <th>9</th>\n      <td>0.304529</td>\n      <td>0.154202</td>\n      <td>0.416733</td>\n      <td>0.124536</td>\n    </tr>\n  </tbody>\n</table>\n</div>"
     },
     "metadata": {},
     "execution_count": 9
    }
   ],
   "source": [
    "# Printing probability of ending up in each mixture\n",
    "pi_vals = []\n",
    "for index in range(len(gauss_results)):\n",
    "    result = gauss_results[index]\n",
    "    pi_vals.append(result.pi)\n",
    "\n",
    "print(f\"PI VALUES FOR GAUSS RESULTS (cluster result x digit)\")\n",
    "pd.DataFrame(pi_vals)\n"
   ]
  },
  {
   "cell_type": "code",
   "execution_count": 10,
   "metadata": {},
   "outputs": [],
   "source": [
    "def get_all_dataframes(digit, write_path, read_path, stopwatch):\n",
    "    \"\"\"\n",
    "    Get all of the dataframes for a single digit \n",
    "    Use single_person data folder as intermediary for pandas read csv ease of use\n",
    "    \"\"\"\n",
    "    start_time = dt.now()\n",
    "    read_filename = f\"{read_path}{digit}.txt\"\n",
    "    write_filename = f\"{write_path}{digit}.txt\"\n",
    "\n",
    "    f = open(write_filename, \"w\")\n",
    "    line_count = 0\n",
    "\n",
    "    df_all = []\n",
    "\n",
    "    # Open file and build out data\n",
    "    with open(read_filename, \"r\") as file:\n",
    "        for line in file:\n",
    "            if len(line.strip()) != 0:\n",
    "                f.write(line)\n",
    "                line_count += 1\n",
    "            elif line_count > 0:\n",
    "                # Close file descriptor, read in written data, update dataframes\n",
    "                f.close()\n",
    "                df = pd.read_csv(write_filename, skip_blank_lines=True, delimiter=' ', header=None)\n",
    "                df_all.append(df)\n",
    "\n",
    "                # Reset line count and file descriptor for new dataframe parse\n",
    "                line_count = 0\n",
    "                f = open(write_filename, \"w\")\n",
    "\n",
    "    # Likely have one more (no missing line on final line)\n",
    "    if line_count > 0:\n",
    "        f.close()\n",
    "        df = pd.read_csv(write_filename, skip_blank_lines=True, delimiter=' ', header=None)\n",
    "        df_all.append(df)\n",
    "\n",
    "    end_time = dt.now()\n",
    "    total_time = (end_time - start_time).total_seconds()\n",
    "\n",
    "    if (stopwatch):\n",
    "        print(f\"Parsed {len(df_all)} frames in {total_time} sec\")\n",
    "\n",
    "    return df_all\n",
    "     \n",
    "def print_summary(digit, total_time, correct, utterances):\n",
    "    \"\"\"Output summary from classification to console\"\"\"\n",
    "    accuracy = correct / utterances * 100\n",
    "    accuracy = round(accuracy, 3)\n",
    "    dt_format = \"%H:%M:%S\"\n",
    "    cur_time = dt.strftime(dt.now(), dt_format) \n",
    "    print(f\"#{digit}\\taccuracy: {accuracy}%\\tcorrect: {correct}\\tutterances: {utterances}\\ttotal_time: {round(total_time, 3)} sec\\tcur_time: {cur_time}\")"
   ]
  },
  {
   "cell_type": "code",
   "execution_count": 11,
   "metadata": {},
   "outputs": [],
   "source": [
    "def classify_dataframe(df, gauss_results, debug):\n",
    "    \"\"\"classify a dataframe based on gaussian results\"\"\"\n",
    "    # Perform classification on some test data\n",
    "    posterior_all = []\n",
    "\n",
    "    for d in range(DIGITS):\n",
    "        \"\"\"Iterate over all digits (possible classifications\"\"\"\n",
    "        posterior_digit = 0\n",
    "\n",
    "        for n, row in df.iterrows():\n",
    "            \"\"\"Iterate over all n frames of the sample\"\"\"\n",
    "            frames_n = row.to_numpy()[MODEL_COEFFS]\n",
    "\n",
    "            sum_m = 0\n",
    "            result_m = gauss_results[d]\n",
    "            \"\"\"Iterate over all results from gmm parameters\"\"\"\n",
    "            cov, pi, u = result_m.cov, result_m.pi, result_m.u   \n",
    "\n",
    "            for m in range(len(u)):\n",
    "                \"\"\"Iterate over all m dimensions of mixture model\"\"\"\n",
    "                u_m = u[m]\n",
    "                cov_m = cov[m]\n",
    "                pi_m = pi[m]\n",
    "\n",
    "                y = multivariate_normal.pdf(x=frames_n, mean=u_m, cov=cov_m)\n",
    "                posterior_i = y * pi_m\n",
    "                sum_m += posterior_i\n",
    "\n",
    "            # end sum over all gauss components for digit\n",
    "            posterior_digit += np.log(sum_m)\n",
    "            \n",
    "            # circuit break on underflow, no longer needed with logpdf\n",
    "            # y = multivariate_normal.pdf(x=frames_n, mean=u_m, cov=cov_m)  # this causes underflow\n",
    "            if posterior_digit == 0:\n",
    "                sys.exit()\n",
    "\n",
    "        # TODO - normalize by the number of samples (is this necessary?)\n",
    "        # end product of all n frames\n",
    "        if (debug):\n",
    "            print(f\"digit: {d}\\tposterior_digit: {posterior_digit}\")\n",
    "        posterior_all.append(posterior_digit)\n",
    "    \n",
    "    classification = posterior_all.index(max(posterior_all))\n",
    "    return (classification, posterior_all)"
   ]
  },
  {
   "cell_type": "code",
   "execution_count": 12,
   "metadata": {},
   "outputs": [
    {
     "output_type": "execute_result",
     "data": {
      "text/plain": [
       "  Accuracy (%)  Correct  Classified    Time (s)\n",
       "0     88.636 %       39          44  17.568 sec\n",
       "1     93.182 %       41          44  15.996 sec\n",
       "2     61.364 %       27          44  23.419 sec\n",
       "3     68.182 %       30          44   29.04 sec\n",
       "4     79.545 %       35          44  24.945 sec\n",
       "5     81.818 %       36          44  20.442 sec\n",
       "6     95.455 %       42          44  26.114 sec\n",
       "7     72.727 %       32          44  17.675 sec\n",
       "8       75.0 %       33          44  22.497 sec\n",
       "9     86.667 %       39          45  19.589 sec"
      ],
      "text/html": "<div>\n<style scoped>\n    .dataframe tbody tr th:only-of-type {\n        vertical-align: middle;\n    }\n\n    .dataframe tbody tr th {\n        vertical-align: top;\n    }\n\n    .dataframe thead th {\n        text-align: right;\n    }\n</style>\n<table border=\"1\" class=\"dataframe\">\n  <thead>\n    <tr style=\"text-align: right;\">\n      <th></th>\n      <th>Accuracy (%)</th>\n      <th>Correct</th>\n      <th>Classified</th>\n      <th>Time (s)</th>\n    </tr>\n  </thead>\n  <tbody>\n    <tr>\n      <th>0</th>\n      <td>88.636 %</td>\n      <td>39</td>\n      <td>44</td>\n      <td>17.568 sec</td>\n    </tr>\n    <tr>\n      <th>1</th>\n      <td>93.182 %</td>\n      <td>41</td>\n      <td>44</td>\n      <td>15.996 sec</td>\n    </tr>\n    <tr>\n      <th>2</th>\n      <td>61.364 %</td>\n      <td>27</td>\n      <td>44</td>\n      <td>23.419 sec</td>\n    </tr>\n    <tr>\n      <th>3</th>\n      <td>68.182 %</td>\n      <td>30</td>\n      <td>44</td>\n      <td>29.04 sec</td>\n    </tr>\n    <tr>\n      <th>4</th>\n      <td>79.545 %</td>\n      <td>35</td>\n      <td>44</td>\n      <td>24.945 sec</td>\n    </tr>\n    <tr>\n      <th>5</th>\n      <td>81.818 %</td>\n      <td>36</td>\n      <td>44</td>\n      <td>20.442 sec</td>\n    </tr>\n    <tr>\n      <th>6</th>\n      <td>95.455 %</td>\n      <td>42</td>\n      <td>44</td>\n      <td>26.114 sec</td>\n    </tr>\n    <tr>\n      <th>7</th>\n      <td>72.727 %</td>\n      <td>32</td>\n      <td>44</td>\n      <td>17.675 sec</td>\n    </tr>\n    <tr>\n      <th>8</th>\n      <td>75.0 %</td>\n      <td>33</td>\n      <td>44</td>\n      <td>22.497 sec</td>\n    </tr>\n    <tr>\n      <th>9</th>\n      <td>86.667 %</td>\n      <td>39</td>\n      <td>45</td>\n      <td>19.589 sec</td>\n    </tr>\n  </tbody>\n</table>\n</div>"
     },
     "metadata": {},
     "execution_count": 12
    }
   ],
   "source": [
    "test_read_path = f\"{DATA_PATH}test_digits/test_0\"\n",
    "test_write_path = f\"{DATA_PATH}single_person/test_0\"\n",
    "\n",
    "classify_every = 5\n",
    "classify_results = []\n",
    "summary_lists = []\n",
    "for digit in range(DIGITS):\n",
    "    total_classified = 0\n",
    "    correct = 0\n",
    "    df_all = get_all_dataframes(digit=digit, write_path=test_write_path, read_path=test_read_path, stopwatch=False)\n",
    "    classify_digit = [0]*DIGITS\n",
    "\n",
    "    index = 0\n",
    "    start_time = dt.now()\n",
    "    for df in df_all:\n",
    "        if index % classify_every == 0:\n",
    "            (classification, posterior_all) = classify_dataframe(df=df, gauss_results=gauss_results, debug=False)    \n",
    "            total_classified += 1\n",
    "            classify_digit[classification] += 1\n",
    "            if classification == digit:\n",
    "                correct += 1\n",
    "        index += 1\n",
    "\n",
    "    classify_results.append(classify_digit)\n",
    "\n",
    "    end_time = dt.now()\n",
    "    total_time = f\"{round((end_time - start_time).total_seconds(), 3)} sec\"\n",
    "    accuracy = f\"{round(correct / total_classified * 100, 3)} %\"\n",
    "    summary = [accuracy, correct, total_classified, total_time]\n",
    "    summary_lists.append(summary)\n",
    "\n",
    "pd.DataFrame(summary_lists, columns=[\"Accuracy (%)\", \"Correct\", \"Classified\", \"Time (s)\"])"
   ]
  },
  {
   "cell_type": "code",
   "execution_count": null,
   "metadata": {},
   "outputs": [],
   "source": [
    "# TODO - print averaages of dataframe\n",
    "# TODO - write results to a data file (results folder?)\n",
    "# Run MANY iterations, determine results"
   ]
  },
  {
   "cell_type": "code",
   "execution_count": 18,
   "metadata": {},
   "outputs": [
    {
     "output_type": "stream",
     "name": "stdout",
     "text": [
      "\tCONFUSION MATRIX\n"
     ]
    },
    {
     "output_type": "execute_result",
     "data": {
      "text/plain": [
       "    0   1  2  3  4  5  6  7  8  9\n",
       "0  37   0  0  2  0  0  3  1  0  1\n",
       "1   1  37  0  1  2  1  0  1  1  0"
      ],
      "text/html": "<div>\n<style scoped>\n    .dataframe tbody tr th:only-of-type {\n        vertical-align: middle;\n    }\n\n    .dataframe tbody tr th {\n        vertical-align: top;\n    }\n\n    .dataframe thead th {\n        text-align: right;\n    }\n</style>\n<table border=\"1\" class=\"dataframe\">\n  <thead>\n    <tr style=\"text-align: right;\">\n      <th></th>\n      <th>0</th>\n      <th>1</th>\n      <th>2</th>\n      <th>3</th>\n      <th>4</th>\n      <th>5</th>\n      <th>6</th>\n      <th>7</th>\n      <th>8</th>\n      <th>9</th>\n    </tr>\n  </thead>\n  <tbody>\n    <tr>\n      <th>0</th>\n      <td>37</td>\n      <td>0</td>\n      <td>0</td>\n      <td>2</td>\n      <td>0</td>\n      <td>0</td>\n      <td>3</td>\n      <td>1</td>\n      <td>0</td>\n      <td>1</td>\n    </tr>\n    <tr>\n      <th>1</th>\n      <td>1</td>\n      <td>37</td>\n      <td>0</td>\n      <td>1</td>\n      <td>2</td>\n      <td>1</td>\n      <td>0</td>\n      <td>1</td>\n      <td>1</td>\n      <td>0</td>\n    </tr>\n  </tbody>\n</table>\n</div>"
     },
     "metadata": {},
     "execution_count": 18
    }
   ],
   "source": [
    "# Why is this so short now...\n",
    "print(f\"\\tCONFUSION MATRIX\")\n",
    "pd.DataFrame(classify_results)"
   ]
  },
  {
   "cell_type": "code",
   "execution_count": null,
   "metadata": {},
   "outputs": [],
   "source": []
  }
 ]
}